{
 "cells": [
  {
   "cell_type": "code",
   "execution_count": 81,
   "metadata": {},
   "outputs": [],
   "source": [
    "import pandas as pd\n",
    "import numpy as np\n",
    "\n",
    "from time import sleep\n",
    "from random import uniform\n",
    "\n",
    "import concurrent.futures\n",
    "from functools import partial, reduce    \n",
    "\n",
    "from yahoofinancials import YahooFinancials\n",
    "from warnings import warn\n",
    "from datetime import date, timedelta\n",
    "\n",
    "import scipy.optimize as sco\n",
    "\n",
    "from prophet import Prophet"
   ]
  },
  {
   "cell_type": "markdown",
   "metadata": {},
   "source": [
    "# Descarga de datos"
   ]
  },
  {
   "cell_type": "code",
   "execution_count": 2,
   "metadata": {},
   "outputs": [],
   "source": [
    "def extraction(ticker: object, \n",
    "               sdate: object,\n",
    "               edate: object,\n",
    "               frequency: object,\n",
    "               volatility: bool = False) -> pd.DataFrame:\n",
    "    '''\n",
    "    Esta función extrae el ticker con las fechas y la frecuencia especificadas. Devuelve un dataframe con\n",
    "    tres columnas: la fecha, los precios de cierre (precio ajustado), y una medida de volatilidad del periodo.\n",
    "    '''\n",
    "    #Consulta el ticker\n",
    "    stock = YahooFinancials(ticker)\n",
    "    #Se trae las fechas históricas con la frecuencia requerida\n",
    "    price = stock.get_historical_price_data(start_date = sdate, \n",
    "                                end_date = edate, \n",
    "                                time_interval = frequency)\n",
    "\n",
    "    #Toma los precios\n",
    "    df_price = pd.DataFrame(price[ticker]['prices'])\n",
    "    #Intenta calcular precio y volatilidad\n",
    "    try:\n",
    "        #Toma el precio de cierre ajustado\n",
    "        df_price['{}_price'.format(ticker)] = df_price['adjclose']\n",
    "        if volatility is True:\n",
    "            #Con precios máximos, mínimos y cierre calcula volatilidad\n",
    "            df_price['{}_volatility'.format(ticker)] = (df_price['high'] - df_price['low'])/df_price['close']\n",
    "    #Si no lo logra devuelve Null\n",
    "    except:\n",
    "        warn('Error en la moneda {}'.format(ticker))\n",
    "        df_price['{}_price'.format(ticker)] = None\n",
    "        if volatility is True:\n",
    "            #Con precios máximos, mínimos y cierre calcula volatilidad\n",
    "            df_price['{}_volatility'.format(ticker)] = None\n",
    "        \n",
    "        df_price['formatted_date'.format(ticker)] = None\n",
    "    #Al final selecciona las columnas finales\n",
    "    finally:\n",
    "        #Formatea fecha\n",
    "        df_price.drop(columns = df_price.columns.difference(['formatted_date',\n",
    "                                               '{}_price'.format(ticker),\n",
    "                                               '{}_volatility'.format(ticker)]), inplace=True)\n",
    "    \n",
    "    return df_price"
   ]
  },
  {
   "cell_type": "code",
   "execution_count": 58,
   "metadata": {
    "scrolled": false
   },
   "outputs": [],
   "source": [
    "fecha_inicial = '2015-01-01'\n",
    "fecha_final = (date.today() - timedelta(days=1)).strftime(\"%Y-%m-%d\")\n",
    "freq = 'daily' \n",
    "\n",
    "#Extrae los tickers\n",
    "tickers = ['BTC-USD', 'ETH-USD', 'DOT-USD', 'BNB-USD', 'SOL-USD', 'ADA-USD', 'LUNA-USD', \n",
    "           'XRP-USD', 'AVAX-USD', 'MATIC-USD', 'LINK-USD', 'ALGO-USD']\n",
    "#Ponderadores\n",
    "w = np.array([0.3, 0.2, 0.08, 0.07, 0.06, 0.06, 0.05, 0.05, 0.05, 0.03, 0.02, 0.03]).reshape(1, -1)\n",
    "\n",
    "#Fija los argumentos extra de la función\n",
    "extract_ticker = partial(extraction,\n",
    "                         sdate = fecha_inicial,\n",
    "                         edate = fecha_final,\n",
    "                         frequency = freq,\n",
    "                         volatility = False)\n",
    "\n",
    "with concurrent.futures.ThreadPoolExecutor() as executor:\n",
    "    all_cryptos = executor.map(extract_ticker, tickers)\n",
    "\n",
    "#Reduciremos el mapa de data frames en un data \n",
    "cryptos_reduce = partial(pd.merge, on='formatted_date', how='outer')                                                              \n",
    "#Reduce el mapa de dataframes en un solo dataframe\n",
    "df = reduce(cryptos_reduce, all_cryptos) \n",
    "\n",
    "#Se trae la tasa \"libre de riesgo\"\n",
    "df_rf = extraction('^TNX', fecha_inicial, fecha_final, freq).dropna()"
   ]
  },
  {
   "cell_type": "markdown",
   "metadata": {},
   "source": [
    "# Preprocesamiento"
   ]
  },
  {
   "cell_type": "code",
   "execution_count": 59,
   "metadata": {},
   "outputs": [],
   "source": [
    "thr_nulls = 0.9\n",
    "\n",
    "#Depuramos los datos\n",
    "df_filter = df.loc[:, df.isnull().sum(axis = 0)/df.shape[0] < thr_nulls].copy()\n",
    "df_filter.dropna(axis = 0, how = 'any', inplace = True)\n",
    "\n",
    "#Fijamos índices\n",
    "df_filter = df_filter.set_index(pd.to_datetime(df_filter['formatted_date']))\n",
    "df_filter.drop(columns = ['formatted_date'], inplace = True)\n",
    "\n",
    "df_rf = df_rf.set_index(pd.to_datetime(df_rf['formatted_date']))\n",
    "df_rf.drop(columns = ['formatted_date'], inplace = True)"
   ]
  },
  {
   "cell_type": "code",
   "execution_count": 82,
   "metadata": {},
   "outputs": [],
   "source": [
    "def prophet_trend(str_crypto: object,\n",
    "                 future_days: int = 30) -> pd.Series:\n",
    "    df_prophet = df_filter[str_crypto].reset_index().copy()\n",
    "    df_prophet.columns = ['ds', 'y']\n",
    "\n",
    "    prophet = Prophet()\n",
    "    prophet.fit(df_prophet)\n",
    "\n",
    "    future = prophet.make_future_dataframe(periods=future_days)\n",
    "    forecast = prophet.predict(future)\n",
    "\n",
    "    return forecast.iloc[-future_days:, 1]"
   ]
  },
  {
   "cell_type": "code",
   "execution_count": 79,
   "metadata": {
    "scrolled": true
   },
   "outputs": [
    {
     "name": "stderr",
     "output_type": "stream",
     "text": [
      "INFO:prophet:Disabling yearly seasonality. Run prophet with yearly_seasonality=True to override this.\n",
      "INFO:prophet:Disabling yearly seasonality. Run prophet with yearly_seasonality=True to override this.\n",
      "INFO:prophet:Disabling yearly seasonality. Run prophet with yearly_seasonality=True to override this.\n",
      "INFO:prophet:Disabling daily seasonality. Run prophet with daily_seasonality=True to override this.\n",
      "INFO:prophet:Disabling yearly seasonality. Run prophet with yearly_seasonality=True to override this.\n",
      "INFO:prophet:Disabling yearly seasonality. Run prophet with yearly_seasonality=True to override this.\n",
      "INFO:prophet:Disabling yearly seasonality. Run prophet with yearly_seasonality=True to override this.\n",
      "INFO:prophet:Disabling daily seasonality. Run prophet with daily_seasonality=True to override this.\n",
      "INFO:prophet:Disabling yearly seasonality. Run prophet with yearly_seasonality=True to override this.\n",
      "INFO:prophet:Disabling daily seasonality. Run prophet with daily_seasonality=True to override this.\n",
      "INFO:prophet:Disabling yearly seasonality. Run prophet with yearly_seasonality=True to override this.\n",
      "C:\\Users\\david\\anaconda3\\envs\\time_series\\lib\\site-packages\\prophet\\forecaster.py:896: FutureWarning: The frame.append method is deprecated and will be removed from pandas in a future version. Use pandas.concat instead.\n",
      "  components = components.append(new_comp)\n",
      "INFO:prophet:Disabling yearly seasonality. Run prophet with yearly_seasonality=True to override this.\n",
      "INFO:prophet:Disabling yearly seasonality. Run prophet with yearly_seasonality=True to override this.\n",
      "INFO:prophet:Disabling daily seasonality. Run prophet with daily_seasonality=True to override this.\n",
      "INFO:prophet:Disabling yearly seasonality. Run prophet with yearly_seasonality=True to override this.\n",
      "INFO:prophet:Disabling yearly seasonality. Run prophet with yearly_seasonality=True to override this.\n",
      "C:\\Users\\david\\anaconda3\\envs\\time_series\\lib\\site-packages\\prophet\\forecaster.py:896: FutureWarning: The frame.append method is deprecated and will be removed from pandas in a future version. Use pandas.concat instead.\n",
      "  components = components.append(new_comp)\n",
      "INFO:prophet:Disabling daily seasonality. Run prophet with daily_seasonality=True to override this.\n",
      "C:\\Users\\david\\anaconda3\\envs\\time_series\\lib\\site-packages\\prophet\\forecaster.py:896: FutureWarning: The frame.append method is deprecated and will be removed from pandas in a future version. Use pandas.concat instead.\n",
      "  components = components.append(new_comp)\n",
      "INFO:prophet:Disabling daily seasonality. Run prophet with daily_seasonality=True to override this.\n",
      "INFO:prophet:Disabling daily seasonality. Run prophet with daily_seasonality=True to override this.\n",
      "INFO:prophet:Disabling daily seasonality. Run prophet with daily_seasonality=True to override this.\n",
      "C:\\Users\\david\\anaconda3\\envs\\time_series\\lib\\site-packages\\prophet\\forecaster.py:896: FutureWarning: The frame.append method is deprecated and will be removed from pandas in a future version. Use pandas.concat instead.\n",
      "  components = components.append(new_comp)\n",
      "INFO:prophet:Disabling daily seasonality. Run prophet with daily_seasonality=True to override this.\n",
      "INFO:prophet:Disabling daily seasonality. Run prophet with daily_seasonality=True to override this.\n",
      "INFO:prophet:Disabling daily seasonality. Run prophet with daily_seasonality=True to override this.\n",
      "C:\\Users\\david\\anaconda3\\envs\\time_series\\lib\\site-packages\\prophet\\forecaster.py:896: FutureWarning: The frame.append method is deprecated and will be removed from pandas in a future version. Use pandas.concat instead.\n",
      "  components = components.append(new_comp)\n",
      "INFO:prophet:Disabling daily seasonality. Run prophet with daily_seasonality=True to override this.\n",
      "C:\\Users\\david\\anaconda3\\envs\\time_series\\lib\\site-packages\\prophet\\forecaster.py:896: FutureWarning: The frame.append method is deprecated and will be removed from pandas in a future version. Use pandas.concat instead.\n",
      "  components = components.append(new_comp)\n",
      "C:\\Users\\david\\anaconda3\\envs\\time_series\\lib\\site-packages\\prophet\\forecaster.py:896: FutureWarning: The frame.append method is deprecated and will be removed from pandas in a future version. Use pandas.concat instead.\n",
      "  components = components.append(new_comp)\n",
      "C:\\Users\\david\\anaconda3\\envs\\time_series\\lib\\site-packages\\prophet\\forecaster.py:896: FutureWarning: The frame.append method is deprecated and will be removed from pandas in a future version. Use pandas.concat instead.\n",
      "  components = components.append(new_comp)\n",
      "C:\\Users\\david\\anaconda3\\envs\\time_series\\lib\\site-packages\\prophet\\forecaster.py:896: FutureWarning: The frame.append method is deprecated and will be removed from pandas in a future version. Use pandas.concat instead.\n",
      "  components = components.append(new_comp)\n",
      "C:\\Users\\david\\anaconda3\\envs\\time_series\\lib\\site-packages\\prophet\\forecaster.py:896: FutureWarning: The frame.append method is deprecated and will be removed from pandas in a future version. Use pandas.concat instead.\n",
      "  components = components.append(new_comp)\n",
      "C:\\Users\\david\\anaconda3\\envs\\time_series\\lib\\site-packages\\prophet\\forecaster.py:896: FutureWarning: The frame.append method is deprecated and will be removed from pandas in a future version. Use pandas.concat instead.\n",
      "  components = components.append(new_comp)\n",
      "C:\\Users\\david\\anaconda3\\envs\\time_series\\lib\\site-packages\\prophet\\forecaster.py:896: FutureWarning: The frame.append method is deprecated and will be removed from pandas in a future version. Use pandas.concat instead.\n",
      "  components = components.append(new_comp)\n",
      "C:\\Users\\david\\anaconda3\\envs\\time_series\\lib\\site-packages\\prophet\\forecaster.py:896: FutureWarning: The frame.append method is deprecated and will be removed from pandas in a future version. Use pandas.concat instead.\n",
      "  components = components.append(new_comp)\n",
      "C:\\Users\\david\\anaconda3\\envs\\time_series\\lib\\site-packages\\prophet\\forecaster.py:896: FutureWarning: The frame.append method is deprecated and will be removed from pandas in a future version. Use pandas.concat instead.\n",
      "  components = components.append(new_comp)\n",
      "C:\\Users\\david\\anaconda3\\envs\\time_series\\lib\\site-packages\\prophet\\forecaster.py:896: FutureWarning: The frame.append method is deprecated and will be removed from pandas in a future version. Use pandas.concat instead.\n",
      "  components = components.append(new_comp)\n",
      "C:\\Users\\david\\anaconda3\\envs\\time_series\\lib\\site-packages\\prophet\\forecaster.py:896: FutureWarning: The frame.append method is deprecated and will be removed from pandas in a future version. Use pandas.concat instead.\n",
      "  components = components.append(new_comp)\n",
      "C:\\Users\\david\\anaconda3\\envs\\time_series\\lib\\site-packages\\prophet\\forecaster.py:896: FutureWarning: The frame.append method is deprecated and will be removed from pandas in a future version. Use pandas.concat instead.\n",
      "  components = components.append(new_comp)\n",
      "C:\\Users\\david\\anaconda3\\envs\\time_series\\lib\\site-packages\\prophet\\forecaster.py:896: FutureWarning: The frame.append method is deprecated and will be removed from pandas in a future version. Use pandas.concat instead.\n",
      "  components = components.append(new_comp)\n",
      "C:\\Users\\david\\anaconda3\\envs\\time_series\\lib\\site-packages\\prophet\\forecaster.py:896: FutureWarning: The frame.append method is deprecated and will be removed from pandas in a future version. Use pandas.concat instead.\n",
      "  components = components.append(new_comp)\n",
      "C:\\Users\\david\\anaconda3\\envs\\time_series\\lib\\site-packages\\prophet\\forecaster.py:896: FutureWarning: The frame.append method is deprecated and will be removed from pandas in a future version. Use pandas.concat instead.\n",
      "  components = components.append(new_comp)\n",
      "C:\\Users\\david\\anaconda3\\envs\\time_series\\lib\\site-packages\\prophet\\forecaster.py:896: FutureWarning: The frame.append method is deprecated and will be removed from pandas in a future version. Use pandas.concat instead.\n",
      "  components = components.append(new_comp)\n",
      "C:\\Users\\david\\anaconda3\\envs\\time_series\\lib\\site-packages\\prophet\\forecaster.py:896: FutureWarning: The frame.append method is deprecated and will be removed from pandas in a future version. Use pandas.concat instead.\n",
      "  components = components.append(new_comp)\n"
     ]
    },
    {
     "name": "stderr",
     "output_type": "stream",
     "text": [
      "C:\\Users\\david\\anaconda3\\envs\\time_series\\lib\\site-packages\\prophet\\forecaster.py:896: FutureWarning: The frame.append method is deprecated and will be removed from pandas in a future version. Use pandas.concat instead.\n",
      "  components = components.append(new_comp)\n",
      "C:\\Users\\david\\anaconda3\\envs\\time_series\\lib\\site-packages\\prophet\\forecaster.py:896: FutureWarning: The frame.append method is deprecated and will be removed from pandas in a future version. Use pandas.concat instead.\n",
      "  components = components.append(new_comp)\n",
      "C:\\Users\\david\\anaconda3\\envs\\time_series\\lib\\site-packages\\prophet\\forecaster.py:896: FutureWarning: The frame.append method is deprecated and will be removed from pandas in a future version. Use pandas.concat instead.\n",
      "  components = components.append(new_comp)\n",
      "C:\\Users\\david\\anaconda3\\envs\\time_series\\lib\\site-packages\\prophet\\forecaster.py:896: FutureWarning: The frame.append method is deprecated and will be removed from pandas in a future version. Use pandas.concat instead.\n",
      "  components = components.append(new_comp)\n",
      "C:\\Users\\david\\anaconda3\\envs\\time_series\\lib\\site-packages\\prophet\\forecaster.py:896: FutureWarning: The frame.append method is deprecated and will be removed from pandas in a future version. Use pandas.concat instead.\n",
      "  components = components.append(new_comp)\n",
      "C:\\Users\\david\\anaconda3\\envs\\time_series\\lib\\site-packages\\prophet\\forecaster.py:896: FutureWarning: The frame.append method is deprecated and will be removed from pandas in a future version. Use pandas.concat instead.\n",
      "  components = components.append(new_comp)\n",
      "C:\\Users\\david\\anaconda3\\envs\\time_series\\lib\\site-packages\\prophet\\forecaster.py:896: FutureWarning: The frame.append method is deprecated and will be removed from pandas in a future version. Use pandas.concat instead.\n",
      "  components = components.append(new_comp)\n",
      "C:\\Users\\david\\anaconda3\\envs\\time_series\\lib\\site-packages\\prophet\\forecaster.py:896: FutureWarning: The frame.append method is deprecated and will be removed from pandas in a future version. Use pandas.concat instead.\n",
      "  components = components.append(new_comp)\n",
      "C:\\Users\\david\\anaconda3\\envs\\time_series\\lib\\site-packages\\prophet\\forecaster.py:896: FutureWarning: The frame.append method is deprecated and will be removed from pandas in a future version. Use pandas.concat instead.\n",
      "  components = components.append(new_comp)\n",
      "C:\\Users\\david\\anaconda3\\envs\\time_series\\lib\\site-packages\\prophet\\forecaster.py:896: FutureWarning: The frame.append method is deprecated and will be removed from pandas in a future version. Use pandas.concat instead.\n",
      "  components = components.append(new_comp)\n",
      "C:\\Users\\david\\anaconda3\\envs\\time_series\\lib\\site-packages\\prophet\\forecaster.py:896: FutureWarning: The frame.append method is deprecated and will be removed from pandas in a future version. Use pandas.concat instead.\n",
      "  components = components.append(new_comp)\n"
     ]
    }
   ],
   "source": [
    "predicted_cryptos = df_filter.columns\n",
    "with concurrent.futures.ThreadPoolExecutor() as executor:\n",
    "    all_trends = executor.map(prophet_trend, predicted_cryptos)\n",
    "    \n",
    "df_trends = pd.DataFrame(all_trends).T\n",
    "df_trends.columns = predicted_cryptos"
   ]
  },
  {
   "cell_type": "code",
   "execution_count": 87,
   "metadata": {},
   "outputs": [
    {
     "data": {
      "text/plain": [
       "ADA-USD_price     -0.012792\n",
       "SOL-USD_price     -0.001369\n",
       "LINK-USD_price    -0.001310\n",
       "BTC-USD_price     -0.001151\n",
       "ALGO-USD_price    -0.000603\n",
       "XRP-USD_price     -0.000476\n",
       "LUNA-USD_price    -0.000136\n",
       "DOT-USD_price      0.000391\n",
       "ETH-USD_price      0.000481\n",
       "BNB-USD_price      0.001025\n",
       "MATIC-USD_price    0.001694\n",
       "AVAX-USD_price     0.002992\n",
       "dtype: float64"
      ]
     },
     "execution_count": 87,
     "metadata": {},
     "output_type": "execute_result"
    }
   ],
   "source": [
    "#Se calculan cambios porcentuales\n",
    "df_filter = df_trends.copy()\n",
    "\n",
    "df_filter = df_filter.apply(lambda x: x.pct_change(), axis = 0)\n",
    "df_filter.dropna(inplace = True)\n",
    "\n",
    "df_filter.mean(axis = 0).sort_values()"
   ]
  }
 ],
 "metadata": {
  "kernelspec": {
   "display_name": "Python 3 (ipykernel)",
   "language": "python",
   "name": "python3"
  },
  "language_info": {
   "codemirror_mode": {
    "name": "ipython",
    "version": 3
   },
   "file_extension": ".py",
   "mimetype": "text/x-python",
   "name": "python",
   "nbconvert_exporter": "python",
   "pygments_lexer": "ipython3",
   "version": "3.9.11"
  }
 },
 "nbformat": 4,
 "nbformat_minor": 2
}
